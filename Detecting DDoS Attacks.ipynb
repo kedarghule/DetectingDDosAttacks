{
 "cells": [
  {
   "cell_type": "markdown",
   "id": "6651de4f",
   "metadata": {},
   "source": [
    "## Importing Libraries"
   ]
  },
  {
   "cell_type": "code",
   "execution_count": 1,
   "id": "81c0648a",
   "metadata": {},
   "outputs": [],
   "source": [
    "import pandas as pd\n",
    "import seaborn as sns\n",
    "import numpy as np\n",
    "from sklearn.preprocessing import LabelEncoder\n",
    "from sklearn.model_selection import KFold, cross_val_score\n",
    "from sklearn.linear_model import LogisticRegression\n",
    "from sklearn.neighbors import KNeighborsClassifier\n",
    "from sklearn.ensemble import RandomForestClassifier\n",
    "from sklearn.ensemble import AdaBoostClassifier"
   ]
  },
  {
   "cell_type": "code",
   "execution_count": 2,
   "id": "9db0d6ea",
   "metadata": {},
   "outputs": [
    {
     "data": {
      "text/html": [
       "<div>\n",
       "<style scoped>\n",
       "    .dataframe tbody tr th:only-of-type {\n",
       "        vertical-align: middle;\n",
       "    }\n",
       "\n",
       "    .dataframe tbody tr th {\n",
       "        vertical-align: top;\n",
       "    }\n",
       "\n",
       "    .dataframe thead th {\n",
       "        text-align: right;\n",
       "    }\n",
       "</style>\n",
       "<table border=\"1\" class=\"dataframe\">\n",
       "  <thead>\n",
       "    <tr style=\"text-align: right;\">\n",
       "      <th></th>\n",
       "      <th>Flow ID</th>\n",
       "      <th>Timestamp</th>\n",
       "      <th>Fwd Pkt Len Mean</th>\n",
       "      <th>Fwd Seg Size Avg</th>\n",
       "      <th>Init Fwd Win Byts</th>\n",
       "      <th>Init Bwd Win Byts</th>\n",
       "      <th>Fwd Seg Size Min</th>\n",
       "      <th>Label</th>\n",
       "    </tr>\n",
       "  </thead>\n",
       "  <tbody>\n",
       "    <tr>\n",
       "      <th>0</th>\n",
       "      <td>172.31.69.28-18.216.200.189-80-52169-6</td>\n",
       "      <td>2018-02-22 00:27:57</td>\n",
       "      <td>233.750000</td>\n",
       "      <td>233.750000</td>\n",
       "      <td>-1</td>\n",
       "      <td>32768</td>\n",
       "      <td>0</td>\n",
       "      <td>ddos</td>\n",
       "    </tr>\n",
       "    <tr>\n",
       "      <th>1</th>\n",
       "      <td>172.31.69.25-18.219.193.20-80-44588-6</td>\n",
       "      <td>2018-02-16 23:18:14</td>\n",
       "      <td>0.000000</td>\n",
       "      <td>0.000000</td>\n",
       "      <td>-1</td>\n",
       "      <td>225</td>\n",
       "      <td>0</td>\n",
       "      <td>ddos</td>\n",
       "    </tr>\n",
       "    <tr>\n",
       "      <th>2</th>\n",
       "      <td>172.31.69.25-18.219.193.20-80-43832-6</td>\n",
       "      <td>2018-02-16 23:23:20</td>\n",
       "      <td>114.333333</td>\n",
       "      <td>114.333333</td>\n",
       "      <td>-1</td>\n",
       "      <td>219</td>\n",
       "      <td>0</td>\n",
       "      <td>ddos</td>\n",
       "    </tr>\n",
       "    <tr>\n",
       "      <th>3</th>\n",
       "      <td>172.31.69.25-18.219.193.20-80-53346-6</td>\n",
       "      <td>2018-02-16 23:22:41</td>\n",
       "      <td>233.750000</td>\n",
       "      <td>233.750000</td>\n",
       "      <td>-1</td>\n",
       "      <td>211</td>\n",
       "      <td>0</td>\n",
       "      <td>ddos</td>\n",
       "    </tr>\n",
       "    <tr>\n",
       "      <th>4</th>\n",
       "      <td>172.31.69.28-18.218.55.126-80-57856-6</td>\n",
       "      <td>2018-02-21 23:49:25</td>\n",
       "      <td>233.750000</td>\n",
       "      <td>233.750000</td>\n",
       "      <td>-1</td>\n",
       "      <td>32768</td>\n",
       "      <td>0</td>\n",
       "      <td>ddos</td>\n",
       "    </tr>\n",
       "  </tbody>\n",
       "</table>\n",
       "</div>"
      ],
      "text/plain": [
       "                                  Flow ID           Timestamp  \\\n",
       "0  172.31.69.28-18.216.200.189-80-52169-6 2018-02-22 00:27:57   \n",
       "1   172.31.69.25-18.219.193.20-80-44588-6 2018-02-16 23:18:14   \n",
       "2   172.31.69.25-18.219.193.20-80-43832-6 2018-02-16 23:23:20   \n",
       "3   172.31.69.25-18.219.193.20-80-53346-6 2018-02-16 23:22:41   \n",
       "4   172.31.69.28-18.218.55.126-80-57856-6 2018-02-21 23:49:25   \n",
       "\n",
       "   Fwd Pkt Len Mean  Fwd Seg Size Avg  Init Fwd Win Byts  Init Bwd Win Byts  \\\n",
       "0        233.750000        233.750000                 -1              32768   \n",
       "1          0.000000          0.000000                 -1                225   \n",
       "2        114.333333        114.333333                 -1                219   \n",
       "3        233.750000        233.750000                 -1                211   \n",
       "4        233.750000        233.750000                 -1              32768   \n",
       "\n",
       "   Fwd Seg Size Min Label  \n",
       "0                 0  ddos  \n",
       "1                 0  ddos  \n",
       "2                 0  ddos  \n",
       "3                 0  ddos  \n",
       "4                 0  ddos  "
      ]
     },
     "execution_count": 2,
     "metadata": {},
     "output_type": "execute_result"
    }
   ],
   "source": [
    "date_columns = [\"Timestamp\"]\n",
    "df = pd.read_csv(\"ddos_dataset.csv\", parse_dates=date_columns,index_col=None)\n",
    "df.head()"
   ]
  },
  {
   "cell_type": "code",
   "execution_count": 3,
   "id": "8f9d8ea0",
   "metadata": {},
   "outputs": [
    {
     "name": "stdout",
     "output_type": "stream",
     "text": [
      "<class 'pandas.core.frame.DataFrame'>\n",
      "RangeIndex: 500000 entries, 0 to 499999\n",
      "Data columns (total 8 columns):\n",
      " #   Column             Non-Null Count   Dtype         \n",
      "---  ------             --------------   -----         \n",
      " 0   Flow ID            500000 non-null  object        \n",
      " 1   Timestamp          500000 non-null  datetime64[ns]\n",
      " 2   Fwd Pkt Len Mean   500000 non-null  float64       \n",
      " 3   Fwd Seg Size Avg   500000 non-null  float64       \n",
      " 4   Init Fwd Win Byts  500000 non-null  int64         \n",
      " 5   Init Bwd Win Byts  500000 non-null  int64         \n",
      " 6   Fwd Seg Size Min   500000 non-null  int64         \n",
      " 7   Label              500000 non-null  object        \n",
      "dtypes: datetime64[ns](1), float64(2), int64(3), object(2)\n",
      "memory usage: 30.5+ MB\n"
     ]
    }
   ],
   "source": [
    "df.info()"
   ]
  },
  {
   "cell_type": "markdown",
   "id": "b78414ae",
   "metadata": {},
   "source": [
    "## Feature Extraction from `Flow ID` column"
   ]
  },
  {
   "cell_type": "code",
   "execution_count": 4,
   "id": "485dc30b",
   "metadata": {},
   "outputs": [
    {
     "data": {
      "text/html": [
       "<div>\n",
       "<style scoped>\n",
       "    .dataframe tbody tr th:only-of-type {\n",
       "        vertical-align: middle;\n",
       "    }\n",
       "\n",
       "    .dataframe tbody tr th {\n",
       "        vertical-align: top;\n",
       "    }\n",
       "\n",
       "    .dataframe thead th {\n",
       "        text-align: right;\n",
       "    }\n",
       "</style>\n",
       "<table border=\"1\" class=\"dataframe\">\n",
       "  <thead>\n",
       "    <tr style=\"text-align: right;\">\n",
       "      <th></th>\n",
       "      <th>Flow ID</th>\n",
       "      <th>Timestamp</th>\n",
       "      <th>Fwd Pkt Len Mean</th>\n",
       "      <th>Fwd Seg Size Avg</th>\n",
       "      <th>Init Fwd Win Byts</th>\n",
       "      <th>Init Bwd Win Byts</th>\n",
       "      <th>Fwd Seg Size Min</th>\n",
       "      <th>Label</th>\n",
       "      <th>Source</th>\n",
       "      <th>Destination</th>\n",
       "      <th>Source Port</th>\n",
       "      <th>Dest Port</th>\n",
       "      <th>Other</th>\n",
       "    </tr>\n",
       "  </thead>\n",
       "  <tbody>\n",
       "    <tr>\n",
       "      <th>0</th>\n",
       "      <td>172.31.69.28-18.216.200.189-80-52169-6</td>\n",
       "      <td>2018-02-22 00:27:57</td>\n",
       "      <td>233.750000</td>\n",
       "      <td>233.750000</td>\n",
       "      <td>-1</td>\n",
       "      <td>32768</td>\n",
       "      <td>0</td>\n",
       "      <td>ddos</td>\n",
       "      <td>172.31.69.28</td>\n",
       "      <td>18.216.200.189</td>\n",
       "      <td>80</td>\n",
       "      <td>52169</td>\n",
       "      <td>6</td>\n",
       "    </tr>\n",
       "    <tr>\n",
       "      <th>1</th>\n",
       "      <td>172.31.69.25-18.219.193.20-80-44588-6</td>\n",
       "      <td>2018-02-16 23:18:14</td>\n",
       "      <td>0.000000</td>\n",
       "      <td>0.000000</td>\n",
       "      <td>-1</td>\n",
       "      <td>225</td>\n",
       "      <td>0</td>\n",
       "      <td>ddos</td>\n",
       "      <td>172.31.69.25</td>\n",
       "      <td>18.219.193.20</td>\n",
       "      <td>80</td>\n",
       "      <td>44588</td>\n",
       "      <td>6</td>\n",
       "    </tr>\n",
       "    <tr>\n",
       "      <th>2</th>\n",
       "      <td>172.31.69.25-18.219.193.20-80-43832-6</td>\n",
       "      <td>2018-02-16 23:23:20</td>\n",
       "      <td>114.333333</td>\n",
       "      <td>114.333333</td>\n",
       "      <td>-1</td>\n",
       "      <td>219</td>\n",
       "      <td>0</td>\n",
       "      <td>ddos</td>\n",
       "      <td>172.31.69.25</td>\n",
       "      <td>18.219.193.20</td>\n",
       "      <td>80</td>\n",
       "      <td>43832</td>\n",
       "      <td>6</td>\n",
       "    </tr>\n",
       "    <tr>\n",
       "      <th>3</th>\n",
       "      <td>172.31.69.25-18.219.193.20-80-53346-6</td>\n",
       "      <td>2018-02-16 23:22:41</td>\n",
       "      <td>233.750000</td>\n",
       "      <td>233.750000</td>\n",
       "      <td>-1</td>\n",
       "      <td>211</td>\n",
       "      <td>0</td>\n",
       "      <td>ddos</td>\n",
       "      <td>172.31.69.25</td>\n",
       "      <td>18.219.193.20</td>\n",
       "      <td>80</td>\n",
       "      <td>53346</td>\n",
       "      <td>6</td>\n",
       "    </tr>\n",
       "    <tr>\n",
       "      <th>4</th>\n",
       "      <td>172.31.69.28-18.218.55.126-80-57856-6</td>\n",
       "      <td>2018-02-21 23:49:25</td>\n",
       "      <td>233.750000</td>\n",
       "      <td>233.750000</td>\n",
       "      <td>-1</td>\n",
       "      <td>32768</td>\n",
       "      <td>0</td>\n",
       "      <td>ddos</td>\n",
       "      <td>172.31.69.28</td>\n",
       "      <td>18.218.55.126</td>\n",
       "      <td>80</td>\n",
       "      <td>57856</td>\n",
       "      <td>6</td>\n",
       "    </tr>\n",
       "  </tbody>\n",
       "</table>\n",
       "</div>"
      ],
      "text/plain": [
       "                                  Flow ID           Timestamp  \\\n",
       "0  172.31.69.28-18.216.200.189-80-52169-6 2018-02-22 00:27:57   \n",
       "1   172.31.69.25-18.219.193.20-80-44588-6 2018-02-16 23:18:14   \n",
       "2   172.31.69.25-18.219.193.20-80-43832-6 2018-02-16 23:23:20   \n",
       "3   172.31.69.25-18.219.193.20-80-53346-6 2018-02-16 23:22:41   \n",
       "4   172.31.69.28-18.218.55.126-80-57856-6 2018-02-21 23:49:25   \n",
       "\n",
       "   Fwd Pkt Len Mean  Fwd Seg Size Avg  Init Fwd Win Byts  Init Bwd Win Byts  \\\n",
       "0        233.750000        233.750000                 -1              32768   \n",
       "1          0.000000          0.000000                 -1                225   \n",
       "2        114.333333        114.333333                 -1                219   \n",
       "3        233.750000        233.750000                 -1                211   \n",
       "4        233.750000        233.750000                 -1              32768   \n",
       "\n",
       "   Fwd Seg Size Min Label        Source     Destination Source Port Dest Port  \\\n",
       "0                 0  ddos  172.31.69.28  18.216.200.189          80     52169   \n",
       "1                 0  ddos  172.31.69.25   18.219.193.20          80     44588   \n",
       "2                 0  ddos  172.31.69.25   18.219.193.20          80     43832   \n",
       "3                 0  ddos  172.31.69.25   18.219.193.20          80     53346   \n",
       "4                 0  ddos  172.31.69.28   18.218.55.126          80     57856   \n",
       "\n",
       "  Other  \n",
       "0     6  \n",
       "1     6  \n",
       "2     6  \n",
       "3     6  \n",
       "4     6  "
      ]
     },
     "execution_count": 4,
     "metadata": {},
     "output_type": "execute_result"
    }
   ],
   "source": [
    "df[['Source', 'Destination', 'Source Port', 'Dest Port', 'Other']] = df['Flow ID'].str.split('-', expand=True)\n",
    "df.head()"
   ]
  },
  {
   "cell_type": "code",
   "execution_count": 5,
   "id": "445d3fe7",
   "metadata": {},
   "outputs": [],
   "source": [
    "df = df.sort_values(\"Timestamp\")"
   ]
  },
  {
   "cell_type": "code",
   "execution_count": 6,
   "id": "10ba4210",
   "metadata": {},
   "outputs": [
    {
     "data": {
      "text/html": [
       "<div>\n",
       "<style scoped>\n",
       "    .dataframe tbody tr th:only-of-type {\n",
       "        vertical-align: middle;\n",
       "    }\n",
       "\n",
       "    .dataframe tbody tr th {\n",
       "        vertical-align: top;\n",
       "    }\n",
       "\n",
       "    .dataframe thead th {\n",
       "        text-align: right;\n",
       "    }\n",
       "</style>\n",
       "<table border=\"1\" class=\"dataframe\">\n",
       "  <thead>\n",
       "    <tr style=\"text-align: right;\">\n",
       "      <th></th>\n",
       "      <th>Flow ID</th>\n",
       "      <th>Fwd Pkt Len Mean</th>\n",
       "      <th>Fwd Seg Size Avg</th>\n",
       "      <th>Init Fwd Win Byts</th>\n",
       "      <th>Init Bwd Win Byts</th>\n",
       "      <th>Fwd Seg Size Min</th>\n",
       "      <th>Label</th>\n",
       "      <th>Source</th>\n",
       "      <th>Destination</th>\n",
       "    </tr>\n",
       "  </thead>\n",
       "  <tbody>\n",
       "    <tr>\n",
       "      <th>13318</th>\n",
       "      <td>192.168.1.104-203.73.24.75-19754-80-6</td>\n",
       "      <td>0.000000</td>\n",
       "      <td>0.000000</td>\n",
       "      <td>-1</td>\n",
       "      <td>17520</td>\n",
       "      <td>0</td>\n",
       "      <td>ddos</td>\n",
       "      <td>192.168.1.104</td>\n",
       "      <td>203.73.24.75</td>\n",
       "    </tr>\n",
       "    <tr>\n",
       "      <th>21539</th>\n",
       "      <td>192.168.1.104-203.73.24.75-19817-80-6</td>\n",
       "      <td>45.500000</td>\n",
       "      <td>45.500000</td>\n",
       "      <td>-1</td>\n",
       "      <td>5840</td>\n",
       "      <td>0</td>\n",
       "      <td>ddos</td>\n",
       "      <td>192.168.1.104</td>\n",
       "      <td>203.73.24.75</td>\n",
       "    </tr>\n",
       "    <tr>\n",
       "      <th>87259</th>\n",
       "      <td>192.168.1.104-203.73.24.75-19824-80-6</td>\n",
       "      <td>0.000000</td>\n",
       "      <td>0.000000</td>\n",
       "      <td>-1</td>\n",
       "      <td>17520</td>\n",
       "      <td>0</td>\n",
       "      <td>ddos</td>\n",
       "      <td>192.168.1.104</td>\n",
       "      <td>203.73.24.75</td>\n",
       "    </tr>\n",
       "    <tr>\n",
       "      <th>61071</th>\n",
       "      <td>192.168.1.104-203.73.24.75-19830-80-6</td>\n",
       "      <td>0.000000</td>\n",
       "      <td>0.000000</td>\n",
       "      <td>-1</td>\n",
       "      <td>17520</td>\n",
       "      <td>0</td>\n",
       "      <td>ddos</td>\n",
       "      <td>192.168.1.104</td>\n",
       "      <td>203.73.24.75</td>\n",
       "    </tr>\n",
       "    <tr>\n",
       "      <th>5143</th>\n",
       "      <td>192.168.1.104-203.73.24.75-19881-80-6</td>\n",
       "      <td>39.333333</td>\n",
       "      <td>39.333333</td>\n",
       "      <td>-1</td>\n",
       "      <td>5840</td>\n",
       "      <td>0</td>\n",
       "      <td>ddos</td>\n",
       "      <td>192.168.1.104</td>\n",
       "      <td>203.73.24.75</td>\n",
       "    </tr>\n",
       "  </tbody>\n",
       "</table>\n",
       "</div>"
      ],
      "text/plain": [
       "                                     Flow ID  Fwd Pkt Len Mean  \\\n",
       "13318  192.168.1.104-203.73.24.75-19754-80-6          0.000000   \n",
       "21539  192.168.1.104-203.73.24.75-19817-80-6         45.500000   \n",
       "87259  192.168.1.104-203.73.24.75-19824-80-6          0.000000   \n",
       "61071  192.168.1.104-203.73.24.75-19830-80-6          0.000000   \n",
       "5143   192.168.1.104-203.73.24.75-19881-80-6         39.333333   \n",
       "\n",
       "       Fwd Seg Size Avg  Init Fwd Win Byts  Init Bwd Win Byts  \\\n",
       "13318          0.000000                 -1              17520   \n",
       "21539         45.500000                 -1               5840   \n",
       "87259          0.000000                 -1              17520   \n",
       "61071          0.000000                 -1              17520   \n",
       "5143          39.333333                 -1               5840   \n",
       "\n",
       "       Fwd Seg Size Min Label         Source   Destination  \n",
       "13318                 0  ddos  192.168.1.104  203.73.24.75  \n",
       "21539                 0  ddos  192.168.1.104  203.73.24.75  \n",
       "87259                 0  ddos  192.168.1.104  203.73.24.75  \n",
       "61071                 0  ddos  192.168.1.104  203.73.24.75  \n",
       "5143                  0  ddos  192.168.1.104  203.73.24.75  "
      ]
     },
     "execution_count": 6,
     "metadata": {},
     "output_type": "execute_result"
    }
   ],
   "source": [
    "# Dropping Timestamp and ports (not sure about the data for ports hence deleting for safety)\n",
    "df = df.drop(columns=[\"Timestamp\", \"Source Port\", \"Dest Port\", \"Other\"])\n",
    "df.head()"
   ]
  },
  {
   "cell_type": "markdown",
   "id": "03790c57",
   "metadata": {},
   "source": [
    "## Handling IP Addresses before using an ML model"
   ]
  },
  {
   "cell_type": "code",
   "execution_count": 7,
   "id": "1dbbcabe",
   "metadata": {},
   "outputs": [
    {
     "data": {
      "text/html": [
       "<div>\n",
       "<style scoped>\n",
       "    .dataframe tbody tr th:only-of-type {\n",
       "        vertical-align: middle;\n",
       "    }\n",
       "\n",
       "    .dataframe tbody tr th {\n",
       "        vertical-align: top;\n",
       "    }\n",
       "\n",
       "    .dataframe thead th {\n",
       "        text-align: right;\n",
       "    }\n",
       "</style>\n",
       "<table border=\"1\" class=\"dataframe\">\n",
       "  <thead>\n",
       "    <tr style=\"text-align: right;\">\n",
       "      <th></th>\n",
       "      <th>Fwd Pkt Len Mean</th>\n",
       "      <th>Fwd Seg Size Avg</th>\n",
       "      <th>Init Fwd Win Byts</th>\n",
       "      <th>Init Bwd Win Byts</th>\n",
       "      <th>Fwd Seg Size Min</th>\n",
       "      <th>Label</th>\n",
       "      <th>SourceIP_1</th>\n",
       "      <th>SourceIP_2</th>\n",
       "      <th>SourceIP_3</th>\n",
       "      <th>SourceIP_4</th>\n",
       "      <th>DestinationIP_1</th>\n",
       "      <th>DestinationIP_2</th>\n",
       "      <th>DestinationIP_3</th>\n",
       "      <th>DestinationIP_4</th>\n",
       "    </tr>\n",
       "  </thead>\n",
       "  <tbody>\n",
       "    <tr>\n",
       "      <th>13318</th>\n",
       "      <td>0.000000</td>\n",
       "      <td>0.000000</td>\n",
       "      <td>-1</td>\n",
       "      <td>17520</td>\n",
       "      <td>0</td>\n",
       "      <td>ddos</td>\n",
       "      <td>192</td>\n",
       "      <td>168</td>\n",
       "      <td>1</td>\n",
       "      <td>104</td>\n",
       "      <td>203</td>\n",
       "      <td>73</td>\n",
       "      <td>24</td>\n",
       "      <td>75</td>\n",
       "    </tr>\n",
       "    <tr>\n",
       "      <th>21539</th>\n",
       "      <td>45.500000</td>\n",
       "      <td>45.500000</td>\n",
       "      <td>-1</td>\n",
       "      <td>5840</td>\n",
       "      <td>0</td>\n",
       "      <td>ddos</td>\n",
       "      <td>192</td>\n",
       "      <td>168</td>\n",
       "      <td>1</td>\n",
       "      <td>104</td>\n",
       "      <td>203</td>\n",
       "      <td>73</td>\n",
       "      <td>24</td>\n",
       "      <td>75</td>\n",
       "    </tr>\n",
       "    <tr>\n",
       "      <th>87259</th>\n",
       "      <td>0.000000</td>\n",
       "      <td>0.000000</td>\n",
       "      <td>-1</td>\n",
       "      <td>17520</td>\n",
       "      <td>0</td>\n",
       "      <td>ddos</td>\n",
       "      <td>192</td>\n",
       "      <td>168</td>\n",
       "      <td>1</td>\n",
       "      <td>104</td>\n",
       "      <td>203</td>\n",
       "      <td>73</td>\n",
       "      <td>24</td>\n",
       "      <td>75</td>\n",
       "    </tr>\n",
       "    <tr>\n",
       "      <th>61071</th>\n",
       "      <td>0.000000</td>\n",
       "      <td>0.000000</td>\n",
       "      <td>-1</td>\n",
       "      <td>17520</td>\n",
       "      <td>0</td>\n",
       "      <td>ddos</td>\n",
       "      <td>192</td>\n",
       "      <td>168</td>\n",
       "      <td>1</td>\n",
       "      <td>104</td>\n",
       "      <td>203</td>\n",
       "      <td>73</td>\n",
       "      <td>24</td>\n",
       "      <td>75</td>\n",
       "    </tr>\n",
       "    <tr>\n",
       "      <th>5143</th>\n",
       "      <td>39.333333</td>\n",
       "      <td>39.333333</td>\n",
       "      <td>-1</td>\n",
       "      <td>5840</td>\n",
       "      <td>0</td>\n",
       "      <td>ddos</td>\n",
       "      <td>192</td>\n",
       "      <td>168</td>\n",
       "      <td>1</td>\n",
       "      <td>104</td>\n",
       "      <td>203</td>\n",
       "      <td>73</td>\n",
       "      <td>24</td>\n",
       "      <td>75</td>\n",
       "    </tr>\n",
       "  </tbody>\n",
       "</table>\n",
       "</div>"
      ],
      "text/plain": [
       "       Fwd Pkt Len Mean  Fwd Seg Size Avg  Init Fwd Win Byts  \\\n",
       "13318          0.000000          0.000000                 -1   \n",
       "21539         45.500000         45.500000                 -1   \n",
       "87259          0.000000          0.000000                 -1   \n",
       "61071          0.000000          0.000000                 -1   \n",
       "5143          39.333333         39.333333                 -1   \n",
       "\n",
       "       Init Bwd Win Byts  Fwd Seg Size Min Label SourceIP_1 SourceIP_2  \\\n",
       "13318              17520                 0  ddos        192        168   \n",
       "21539               5840                 0  ddos        192        168   \n",
       "87259              17520                 0  ddos        192        168   \n",
       "61071              17520                 0  ddos        192        168   \n",
       "5143                5840                 0  ddos        192        168   \n",
       "\n",
       "      SourceIP_3 SourceIP_4 DestinationIP_1 DestinationIP_2 DestinationIP_3  \\\n",
       "13318          1        104             203              73              24   \n",
       "21539          1        104             203              73              24   \n",
       "87259          1        104             203              73              24   \n",
       "61071          1        104             203              73              24   \n",
       "5143           1        104             203              73              24   \n",
       "\n",
       "      DestinationIP_4  \n",
       "13318              75  \n",
       "21539              75  \n",
       "87259              75  \n",
       "61071              75  \n",
       "5143               75  "
      ]
     },
     "execution_count": 7,
     "metadata": {},
     "output_type": "execute_result"
    }
   ],
   "source": [
    "df[['SourceIP_1', 'SourceIP_2', 'SourceIP_3', 'SourceIP_4']] = df.Source.str.split('.', expand=True)\n",
    "df[['DestinationIP_1', 'DestinationIP_2', 'DestinationIP_3', 'DestinationIP_4']] = df.Destination.str.split('.', expand=True)\n",
    "df = df.drop(columns=[\"Source\", \"Destination\", \"Flow ID\"])\n",
    "df.head()"
   ]
  },
  {
   "cell_type": "markdown",
   "id": "fc85d47e",
   "metadata": {},
   "source": [
    "## Checking for missing values"
   ]
  },
  {
   "cell_type": "code",
   "execution_count": 8,
   "id": "e6bc7a43",
   "metadata": {},
   "outputs": [
    {
     "data": {
      "text/plain": [
       "Fwd Pkt Len Mean     0\n",
       "Fwd Seg Size Avg     0\n",
       "Init Fwd Win Byts    0\n",
       "Init Bwd Win Byts    0\n",
       "Fwd Seg Size Min     0\n",
       "Label                0\n",
       "SourceIP_1           0\n",
       "SourceIP_2           0\n",
       "SourceIP_3           0\n",
       "SourceIP_4           0\n",
       "DestinationIP_1      0\n",
       "DestinationIP_2      0\n",
       "DestinationIP_3      0\n",
       "DestinationIP_4      0\n",
       "dtype: int64"
      ]
     },
     "execution_count": 8,
     "metadata": {},
     "output_type": "execute_result"
    }
   ],
   "source": [
    "df.isna().sum()"
   ]
  },
  {
   "cell_type": "markdown",
   "id": "d2b75b5d",
   "metadata": {},
   "source": [
    "## Check for class imbalance"
   ]
  },
  {
   "cell_type": "code",
   "execution_count": 9,
   "id": "3f6889aa",
   "metadata": {},
   "outputs": [
    {
     "name": "stderr",
     "output_type": "stream",
     "text": [
      "C:\\Users\\kedar\\anaconda3\\lib\\site-packages\\seaborn\\_decorators.py:36: FutureWarning: Pass the following variable as a keyword arg: x. From version 0.12, the only valid positional argument will be `data`, and passing other arguments without an explicit keyword will result in an error or misinterpretation.\n",
      "  warnings.warn(\n"
     ]
    },
    {
     "data": {
      "image/png": "[encoded data removed]",
      "text/plain": [
       "<Figure size 432x288 with 1 Axes>"
      ]
     },
     "metadata": {
      "needs_background": "light"
     },
     "output_type": "display_data"
    }
   ],
   "source": [
    "sns.countplot(df['Label']);"
   ]
  },
  {
   "cell_type": "markdown",
   "id": "c344b240",
   "metadata": {},
   "source": [
    "## Encoding the target variable"
   ]
  },
  {
   "cell_type": "code",
   "execution_count": 10,
   "id": "3bb6406c",
   "metadata": {},
   "outputs": [
    {
     "data": {
      "text/html": [
       "<div>\n",
       "<style scoped>\n",
       "    .dataframe tbody tr th:only-of-type {\n",
       "        vertical-align: middle;\n",
       "    }\n",
       "\n",
       "    .dataframe tbody tr th {\n",
       "        vertical-align: top;\n",
       "    }\n",
       "\n",
       "    .dataframe thead th {\n",
       "        text-align: right;\n",
       "    }\n",
       "</style>\n",
       "<table border=\"1\" class=\"dataframe\">\n",
       "  <thead>\n",
       "    <tr style=\"text-align: right;\">\n",
       "      <th></th>\n",
       "      <th>Fwd Pkt Len Mean</th>\n",
       "      <th>Fwd Seg Size Avg</th>\n",
       "      <th>Init Fwd Win Byts</th>\n",
       "      <th>Init Bwd Win Byts</th>\n",
       "      <th>Fwd Seg Size Min</th>\n",
       "      <th>Label</th>\n",
       "      <th>SourceIP_1</th>\n",
       "      <th>SourceIP_2</th>\n",
       "      <th>SourceIP_3</th>\n",
       "      <th>SourceIP_4</th>\n",
       "      <th>DestinationIP_1</th>\n",
       "      <th>DestinationIP_2</th>\n",
       "      <th>DestinationIP_3</th>\n",
       "      <th>DestinationIP_4</th>\n",
       "    </tr>\n",
       "  </thead>\n",
       "  <tbody>\n",
       "    <tr>\n",
       "      <th>13318</th>\n",
       "      <td>0.000000</td>\n",
       "      <td>0.000000</td>\n",
       "      <td>-1</td>\n",
       "      <td>17520</td>\n",
       "      <td>0</td>\n",
       "      <td>1</td>\n",
       "      <td>192</td>\n",
       "      <td>168</td>\n",
       "      <td>1</td>\n",
       "      <td>104</td>\n",
       "      <td>203</td>\n",
       "      <td>73</td>\n",
       "      <td>24</td>\n",
       "      <td>75</td>\n",
       "    </tr>\n",
       "    <tr>\n",
       "      <th>21539</th>\n",
       "      <td>45.500000</td>\n",
       "      <td>45.500000</td>\n",
       "      <td>-1</td>\n",
       "      <td>5840</td>\n",
       "      <td>0</td>\n",
       "      <td>1</td>\n",
       "      <td>192</td>\n",
       "      <td>168</td>\n",
       "      <td>1</td>\n",
       "      <td>104</td>\n",
       "      <td>203</td>\n",
       "      <td>73</td>\n",
       "      <td>24</td>\n",
       "      <td>75</td>\n",
       "    </tr>\n",
       "    <tr>\n",
       "      <th>87259</th>\n",
       "      <td>0.000000</td>\n",
       "      <td>0.000000</td>\n",
       "      <td>-1</td>\n",
       "      <td>17520</td>\n",
       "      <td>0</td>\n",
       "      <td>1</td>\n",
       "      <td>192</td>\n",
       "      <td>168</td>\n",
       "      <td>1</td>\n",
       "      <td>104</td>\n",
       "      <td>203</td>\n",
       "      <td>73</td>\n",
       "      <td>24</td>\n",
       "      <td>75</td>\n",
       "    </tr>\n",
       "    <tr>\n",
       "      <th>61071</th>\n",
       "      <td>0.000000</td>\n",
       "      <td>0.000000</td>\n",
       "      <td>-1</td>\n",
       "      <td>17520</td>\n",
       "      <td>0</td>\n",
       "      <td>1</td>\n",
       "      <td>192</td>\n",
       "      <td>168</td>\n",
       "      <td>1</td>\n",
       "      <td>104</td>\n",
       "      <td>203</td>\n",
       "      <td>73</td>\n",
       "      <td>24</td>\n",
       "      <td>75</td>\n",
       "    </tr>\n",
       "    <tr>\n",
       "      <th>5143</th>\n",
       "      <td>39.333333</td>\n",
       "      <td>39.333333</td>\n",
       "      <td>-1</td>\n",
       "      <td>5840</td>\n",
       "      <td>0</td>\n",
       "      <td>1</td>\n",
       "      <td>192</td>\n",
       "      <td>168</td>\n",
       "      <td>1</td>\n",
       "      <td>104</td>\n",
       "      <td>203</td>\n",
       "      <td>73</td>\n",
       "      <td>24</td>\n",
       "      <td>75</td>\n",
       "    </tr>\n",
       "  </tbody>\n",
       "</table>\n",
       "</div>"
      ],
      "text/plain": [
       "       Fwd Pkt Len Mean  Fwd Seg Size Avg  Init Fwd Win Byts  \\\n",
       "13318          0.000000          0.000000                 -1   \n",
       "21539         45.500000         45.500000                 -1   \n",
       "87259          0.000000          0.000000                 -1   \n",
       "61071          0.000000          0.000000                 -1   \n",
       "5143          39.333333         39.333333                 -1   \n",
       "\n",
       "       Init Bwd Win Byts  Fwd Seg Size Min  Label SourceIP_1 SourceIP_2  \\\n",
       "13318              17520                 0      1        192        168   \n",
       "21539               5840                 0      1        192        168   \n",
       "87259              17520                 0      1        192        168   \n",
       "61071              17520                 0      1        192        168   \n",
       "5143                5840                 0      1        192        168   \n",
       "\n",
       "      SourceIP_3 SourceIP_4 DestinationIP_1 DestinationIP_2 DestinationIP_3  \\\n",
       "13318          1        104             203              73              24   \n",
       "21539          1        104             203              73              24   \n",
       "87259          1        104             203              73              24   \n",
       "61071          1        104             203              73              24   \n",
       "5143           1        104             203              73              24   \n",
       "\n",
       "      DestinationIP_4  \n",
       "13318              75  \n",
       "21539              75  \n",
       "87259              75  \n",
       "61071              75  \n",
       "5143               75  "
      ]
     },
     "execution_count": 10,
     "metadata": {},
     "output_type": "execute_result"
    }
   ],
   "source": [
    "le = LabelEncoder()\n",
    "df['Label'] = le.fit_transform(df['Label'])\n",
    "df.head()"
   ]
  },
  {
   "cell_type": "code",
   "execution_count": 11,
   "id": "f4bc6263",
   "metadata": {},
   "outputs": [],
   "source": [
    "from imblearn.under_sampling import RandomUnderSampler  \n",
    "X = df.drop('Label' , axis = 1)\n",
    "y = df['Label']\n",
    "RUS = RandomUnderSampler(random_state=42)\n",
    "X_rus, y_rus = RUS.fit_resample(X,y)"
   ]
  },
  {
   "cell_type": "code",
   "execution_count": 12,
   "id": "5f8764f0",
   "metadata": {},
   "outputs": [],
   "source": [
    "# X = df.drop(columns='Label')\n",
    "# y = np.ravel(df.Label)\n",
    "\n",
    "# from imblearn.over_sampling import SMOTE\n",
    "# sm = SMOTE(random_state=42)\n",
    "# X_res, y_res = sm.fit_resample(X, y)"
   ]
  },
  {
   "cell_type": "code",
   "execution_count": 13,
   "id": "adb4f0de",
   "metadata": {},
   "outputs": [],
   "source": [
    "# np.unique(y_res, return_counts=True)"
   ]
  },
  {
   "cell_type": "code",
   "execution_count": 14,
   "id": "95216784",
   "metadata": {},
   "outputs": [],
   "source": [
    "from sklearn.model_selection import train_test_split\n",
    "X_train, X_test, y_train, y_test = train_test_split(X, y, test_size=0.3)"
   ]
  },
  {
   "cell_type": "markdown",
   "id": "cbae1d1a",
   "metadata": {},
   "source": [
    "## Splitting the dataset"
   ]
  },
  {
   "cell_type": "code",
   "execution_count": 15,
   "id": "8b9288b2",
   "metadata": {},
   "outputs": [],
   "source": [
    "# l = len(df.index)\n",
    "# train_df = df.head(int(l * 0.8))\n",
    "# test_df = df.tail(int(l * 0.2))\n",
    "# l"
   ]
  },
  {
   "cell_type": "code",
   "execution_count": 16,
   "id": "a91a0eb8",
   "metadata": {},
   "outputs": [],
   "source": [
    "# from collections import Counter\n",
    "\n",
    "# print(Counter(train_df[\"Label\"].values))\n",
    "# print(Counter(test_df[\"Label\"].values))"
   ]
  },
  {
   "cell_type": "code",
   "execution_count": 17,
   "id": "9838a024",
   "metadata": {},
   "outputs": [],
   "source": [
    "# y_train = train_df.pop(\"Label\").values\n",
    "# y_test = test_df.pop(\"Label\").values"
   ]
  },
  {
   "cell_type": "code",
   "execution_count": 18,
   "id": "3f0c1618",
   "metadata": {},
   "outputs": [],
   "source": [
    "# X_train = train_df.values\n",
    "# X_test = test_df.values"
   ]
  },
  {
   "cell_type": "markdown",
   "id": "228788cb",
   "metadata": {},
   "source": [
    "## Finding our Base Model"
   ]
  },
  {
   "cell_type": "code",
   "execution_count": 19,
   "id": "eeabc5b7",
   "metadata": {},
   "outputs": [],
   "source": [
    "models = {\"Logistic Regression\": LogisticRegression(), \"Random Forest\": RandomForestClassifier(),\n",
    "         \"KNN\": KNeighborsClassifier(), \"AdaBoost\": AdaBoostClassifier()}\n",
    "\n",
    "cv = KFold(n_splits=10)\n",
    "\n",
    "def fit_and_score(models, X_train, X_test, y_train, y_test):\n",
    "    model_scores = {}\n",
    "    for name, model in models.items():\n",
    "        model.fit(X_train, y_train)\n",
    "        scores = cross_val_score(model, X_train, y_train, scoring='accuracy', cv=cv, n_jobs=-1)\n",
    "        model_scores[name] = model.score(X_test, y_test)\n",
    "    return model_scores"
   ]
  },
  {
   "cell_type": "code",
   "execution_count": 20,
   "id": "0de09789",
   "metadata": {},
   "outputs": [
    {
     "name": "stderr",
     "output_type": "stream",
     "text": [
      "C:\\Users\\kedar\\anaconda3\\lib\\site-packages\\sklearn\\linear_model\\_logistic.py:814: ConvergenceWarning: lbfgs failed to converge (status=1):\n",
      "STOP: TOTAL NO. of ITERATIONS REACHED LIMIT.\n",
      "\n",
      "Increase the number of iterations (max_iter) or scale the data as shown in:\n",
      "    https://scikit-learn.org/stable/modules/preprocessing.html\n",
      "Please also refer to the documentation for alternative solver options:\n",
      "    https://scikit-learn.org/stable/modules/linear_model.html#logistic-regression\n",
      "  n_iter_i = _check_optimize_result(\n"
     ]
    },
    {
     "data": {
      "text/plain": [
       "{'Logistic Regression': 0.96428,\n",
       " 'Random Forest': 0.9999466666666667,\n",
       " 'KNN': 0.9995533333333333,\n",
       " 'AdaBoost': 0.9998}"
      ]
     },
     "execution_count": 20,
     "metadata": {},
     "output_type": "execute_result"
    }
   ],
   "source": [
    "model_scores = fit_and_score(models, X_train, X_test, y_train, y_test)\n",
    "model_scores"
   ]
  },
  {
   "cell_type": "code",
   "execution_count": 21,
   "id": "91ea4721",
   "metadata": {},
   "outputs": [
    {
     "data": {
      "image/png": "[encoded data removed]",
      "text/plain": [
       "<Figure size 432x288 with 1 Axes>"
      ]
     },
     "metadata": {
      "needs_background": "light"
     },
     "output_type": "display_data"
    }
   ],
   "source": [
    "model_compare = pd.DataFrame(model_scores, index=['accuracy'])\n",
    "model_compare.T.plot.bar();"
   ]
  },
  {
   "cell_type": "markdown",
   "id": "833f4ffa",
   "metadata": {},
   "source": [
    "We observe a better accuracy with AdaBoost Classifier. \n",
    "\n",
    "## Training an AdaBoost Classifier"
   ]
  },
  {
   "cell_type": "code",
   "execution_count": 22,
   "id": "afe9f13a",
   "metadata": {},
   "outputs": [
    {
     "data": {
      "text/plain": [
       "0.9998"
      ]
     },
     "execution_count": 22,
     "metadata": {},
     "output_type": "execute_result"
    }
   ],
   "source": [
    "clf = AdaBoostClassifier()\n",
    "clf.fit(X_train, y_train)\n",
    "clf.score(X_test, y_test)"
   ]
  },
  {
   "cell_type": "markdown",
   "id": "33d057a8",
   "metadata": {},
   "source": [
    "## Evaluating a model"
   ]
  },
  {
   "cell_type": "code",
   "execution_count": 23,
   "id": "1e5a727e",
   "metadata": {},
   "outputs": [
    {
     "name": "stderr",
     "output_type": "stream",
     "text": [
      "C:\\Users\\kedar\\anaconda3\\lib\\site-packages\\sklearn\\utils\\deprecation.py:87: FutureWarning: Function plot_roc_curve is deprecated; Function :func:`plot_roc_curve` is deprecated in 1.0 and will be removed in 1.2. Use one of the class methods: :meth:`sklearn.metric.RocCurveDisplay.from_predictions` or :meth:`sklearn.metric.RocCurveDisplay.from_estimator`.\n",
      "  warnings.warn(msg, category=FutureWarning)\n"
     ]
    },
    {
     "data": {
      "text/plain": [
       "<sklearn.metrics._plot.roc_curve.RocCurveDisplay at 0x1a690464e80>"
      ]
     },
     "execution_count": 23,
     "metadata": {},
     "output_type": "execute_result"
    },
    {
     "data": {
      "image/png": "[encoded data removed]",
      "text/plain": [
       "<Figure size 432x288 with 1 Axes>"
      ]
     },
     "metadata": {
      "needs_background": "light"
     },
     "output_type": "display_data"
    }
   ],
   "source": [
    "from sklearn.metrics import plot_roc_curve\n",
    "plot_roc_curve(clf, X_test, y_test)"
   ]
  },
  {
   "cell_type": "code",
   "execution_count": 24,
   "id": "e3f5f543",
   "metadata": {},
   "outputs": [
    {
     "data": {
      "image/png": "[encoded data removed]",
      "text/plain": [
       "<Figure size 432x288 with 2 Axes>"
      ]
     },
     "metadata": {
      "needs_background": "light"
     },
     "output_type": "display_data"
    }
   ],
   "source": [
    "y_preds = clf.predict(X_test)\n",
    "from sklearn.metrics import confusion_matrix\n",
    "conf_mat = confusion_matrix(y_test, y_preds)\n",
    "sns.heatmap(conf_mat, annot=True);"
   ]
  },
  {
   "cell_type": "code",
   "execution_count": 25,
   "id": "d6cf7f7a",
   "metadata": {},
   "outputs": [
    {
     "name": "stdout",
     "output_type": "stream",
     "text": [
      "              precision    recall  f1-score   support\n",
      "\n",
      "           0       1.00      1.00      1.00    119960\n",
      "           1       1.00      1.00      1.00     30040\n",
      "\n",
      "    accuracy                           1.00    150000\n",
      "   macro avg       1.00      1.00      1.00    150000\n",
      "weighted avg       1.00      1.00      1.00    150000\n",
      "\n"
     ]
    }
   ],
   "source": [
    "from sklearn.metrics import classification_report\n",
    "print(classification_report(y_test, y_preds))"
   ]
  },
  {
   "cell_type": "code",
   "execution_count": 26,
   "id": "911bf964",
   "metadata": {},
   "outputs": [
    {
     "name": "stdout",
     "output_type": "stream",
     "text": [
      "Average precision-recall score: 1.00\n"
     ]
    }
   ],
   "source": [
    "from sklearn.metrics import average_precision_score, plot_precision_recall_curve\n",
    "y_score = clf.decision_function(X_test)\n",
    "average_precision = average_precision_score(y_test, y_score)\n",
    "print('Average precision-recall score: {0:0.2f}'.format(average_precision))"
   ]
  },
  {
   "cell_type": "code",
   "execution_count": 27,
   "id": "d502a91e",
   "metadata": {},
   "outputs": [
    {
     "name": "stderr",
     "output_type": "stream",
     "text": [
      "C:\\Users\\kedar\\anaconda3\\lib\\site-packages\\sklearn\\utils\\deprecation.py:87: FutureWarning: Function plot_precision_recall_curve is deprecated; Function `plot_precision_recall_curve` is deprecated in 1.0 and will be removed in 1.2. Use one of the class methods: PrecisionRecallDisplay.from_predictions or PrecisionRecallDisplay.from_estimator.\n",
      "  warnings.warn(msg, category=FutureWarning)\n"
     ]
    },
    {
     "data": {
      "text/plain": [
       "Text(0.5, 1.0, 'Precision-Recall curve: AP=1.00')"
      ]
     },
     "execution_count": 27,
     "metadata": {},
     "output_type": "execute_result"
    },
    {
     "data": {
      "image/png": "[encoded data removed]",
      "text/plain": [
       "<Figure size 432x288 with 1 Axes>"
      ]
     },
     "metadata": {
      "needs_background": "light"
     },
     "output_type": "display_data"
    }
   ],
   "source": [
    "disp = plot_precision_recall_curve(clf, X_test, y_test)\n",
    "disp.ax_.set_title('Precision-Recall curve: '\n",
    "                   'AP={0:0.2f}'.format(average_precision))"
   ]
  },
  {
   "cell_type": "code",
   "execution_count": null,
   "id": "0d425fc0",
   "metadata": {},
   "outputs": [],
   "source": []
  }
 ],
 "metadata": {
  "kernelspec": {
   "display_name": "Python 3 (ipykernel)",
   "language": "python",
   "name": "python3"
  },
  "language_info": {
   "codemirror_mode": {
    "name": "ipython",
    "version": 3
   },
   "file_extension": ".py",
   "mimetype": "text/x-python",
   "name": "python",
   "nbconvert_exporter": "python",
   "pygments_lexer": "ipython3",
   "version": "3.8.8"
  }
 },
 "nbformat": 4,
 "nbformat_minor": 5
}
